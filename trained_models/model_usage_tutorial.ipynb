{
 "cells": [
  {
   "cell_type": "code",
   "execution_count": 6,
   "id": "f083ca4c",
   "metadata": {},
   "outputs": [],
   "source": [
    "import os\n",
    "import pickle\n",
    "import numpy as np\n",
    "import pandas as pd\n",
    "import sklearn"
   ]
  },
  {
   "cell_type": "markdown",
   "id": "f73310c8",
   "metadata": {},
   "source": [
    "### Download models"
   ]
  },
  {
   "cell_type": "markdown",
   "id": "58004991",
   "metadata": {},
   "source": [
    "Download this folder: https://polybox.ethz.ch/index.php/s/U6Ge2Sb49rnRzV6 and copy the two files `xgb.p` and `xgb_simple.p` into the `trained_models` folder (=the directory of this notebook)"
   ]
  },
  {
   "cell_type": "markdown",
   "id": "2c887d43",
   "metadata": {},
   "source": [
    "### Models can be loaded as a pickle file"
   ]
  },
  {
   "cell_type": "code",
   "execution_count": 54,
   "id": "250029dc",
   "metadata": {},
   "outputs": [
    {
     "name": "stdout",
     "output_type": "stream",
     "text": [
      "Available models:\n",
      "['xgb_simple.p', 'xgb.p']\n"
     ]
    }
   ],
   "source": [
    "print(\"Available models:\")\n",
    "print([m for m in os.listdir(\".\") if m[-2:]==\".p\"])"
   ]
  },
  {
   "cell_type": "markdown",
   "id": "33f989ff",
   "metadata": {},
   "source": [
    "#### Load model"
   ]
  },
  {
   "cell_type": "code",
   "execution_count": 55,
   "id": "20bd3c76",
   "metadata": {},
   "outputs": [],
   "source": [
    "with open(\"xgb.p\", \"rb\") as infile:\n",
    "    model = pickle.load(infile)"
   ]
  },
  {
   "cell_type": "markdown",
   "id": "170d0913",
   "metadata": {},
   "source": [
    "## Model inputs"
   ]
  },
  {
   "cell_type": "markdown",
   "id": "af76dbbf",
   "metadata": {},
   "source": [
    "#### Print the required input columns"
   ]
  },
  {
   "cell_type": "code",
   "execution_count": 68,
   "id": "239df8c6",
   "metadata": {},
   "outputs": [
    {
     "data": {
      "text/plain": [
       "Index(['feat_age', 'feat_sex', 'feat_caraccess', 'feat_employed',\n",
       "       'feat_distance', 'feat_purpose_destination_home',\n",
       "       'feat_purpose_destination_leisure', 'feat_purpose_destination_work',\n",
       "       'feat_purpose_destination_shopping',\n",
       "       'feat_purpose_destination_education', 'feat_purpose_origin_home',\n",
       "       'feat_purpose_origin_leisure', 'feat_purpose_origin_work',\n",
       "       'feat_purpose_origin_shopping', 'feat_purpose_origin_education',\n",
       "       'feat_pt_accessibilityorigin', 'feat_pt_accessibilitydestination',\n",
       "       'feat_distance_to_station_origin',\n",
       "       'feat_distance_to_station_destination', 'feat_origin_hour',\n",
       "       'feat_origin_day', 'feat_destination_hour', 'feat_destination_day'],\n",
       "      dtype='object')"
      ]
     },
     "execution_count": 68,
     "metadata": {},
     "output_type": "execute_result"
    }
   ],
   "source": [
    "model.feat_columns"
   ]
  },
  {
   "cell_type": "markdown",
   "id": "0a80be1f",
   "metadata": {},
   "source": [
    "### Input format\n",
    "\n",
    "The variables are not normalized. The units are the following:\n",
    "\n",
    "* feat_age: Age in years\n",
    "* feat_sex: 1 = female, 0 = male\n",
    "* feat_caraccess: 1 if the person owns a car, 0 else:\n",
    "* feat_employed: 1 if the person is employed, 0.5 if part time, 0 if unemployed\n",
    "* feat_distance: Distance from origin to destination (in m)\n",
    "* feat_purpose_destination_home: 1 if the destination is the home location, else 0\n",
    "* feat_purpose_destination_leisure: 1 if the destination is visited for leisure, else 0\n",
    "* feat_purpose_destination_work: 1 if the destination is visited for work, else 0\n",
    "* feat_purpose_destination_shopping: 1 if the destination is visited for shopping, else 0\n",
    "* feat_purpose_destination_education: 1 if the destination is visited for education, else 0\n",
    "* feat_purpose_origin_home: 1 if the origin is visited for leisure, else 0\n",
    "* feat_purpose_origin_leisure: 1 if the origin is visited for leisure, else 0\n",
    "* feat_purpose_origin_work: 1 if the origin is the home work, else 0\n",
    "* feat_purpose_origin_shopping: 1 if the origin is visited for shopping, else 0\n",
    "* feat_purpose_origin_education: 1 if the origin is visited for education, else 0\n",
    "* feat_pt_accessibilityorigin: Public transport accessibility at the origin location (Score from 0 to 4, 0=unknown, 1=bad PT accessibility (class D in Swiss system), 4=excellent accessibility (class A in Swiss system) - see [here](file:///Users/ninawiedemann/Downloads/oev-gueteklassen-berechnungsmethodikare.pdf) for the Swiss system)\n",
    "* feat_pt_accessibilitydestination: Public transport accessibility at the destination location (Score from 0 to 4, 0=unknown, 1=bad PT accessibility, 4=excellent accessibility)\n",
    "* feat_distance_to_station_origin: Distance of the origin location to the closest car sharing station (in m)\n",
    "* feat_distance_to_station_destination: Distance of the destination location to the closest car sharing station (in m)\n",
    "* feat_origin_hour: Hour of the day when starting the activity at the origin location - number from 0 to 24\n",
    "* feat_origin_day: Weekday when at origin location (Number from 0 to 6)\n",
    "* feat_destination_hour: Hour of the day when starting the activity at the origin location - number from 0 to 24\n",
    "* feat_destination_day: Weekday when at destination location (Number from 0 to 6)"
   ]
  },
  {
   "cell_type": "markdown",
   "id": "96cee4a9",
   "metadata": {},
   "source": [
    "#### Simplest mode choice model: only based on distance and daytime"
   ]
  },
  {
   "cell_type": "code",
   "execution_count": 57,
   "id": "31a28efb",
   "metadata": {},
   "outputs": [
    {
     "data": {
      "text/plain": [
       "Index(['feat_distance', 'feat_distance_to_station_origin',\n",
       "       'feat_distance_to_station_destination', 'feat_origin_hour',\n",
       "       'feat_origin_day', 'feat_destination_hour', 'feat_destination_day'],\n",
       "      dtype='object')"
      ]
     },
     "execution_count": 57,
     "metadata": {},
     "output_type": "execute_result"
    }
   ],
   "source": [
    "with open(\"xgb_simple.p\", \"rb\") as infile:\n",
    "    simple_model = pickle.load(infile)\n",
    "simple_model.feat_columns"
   ]
  },
  {
   "cell_type": "markdown",
   "id": "1f0d2375",
   "metadata": {},
   "source": [
    "## Model output\n",
    "\n",
    "The output will be a string that describes a transport mode. You can see the supported models in the `labels_meaning` attribute:"
   ]
  },
  {
   "cell_type": "code",
   "execution_count": 58,
   "id": "6e4c9a8f",
   "metadata": {},
   "outputs": [
    {
     "data": {
      "text/plain": [
       "array(['Mode::Bicycle', 'Mode::Bus', 'Mode::Car',\n",
       "       'Mode::CarsharingMobility', 'Mode::LightRail',\n",
       "       'Mode::RegionalTrain', 'Mode::Train', 'Mode::Tram', 'Mode::Walk'],\n",
       "      dtype=object)"
      ]
     },
     "execution_count": 58,
     "metadata": {},
     "output_type": "execute_result"
    }
   ],
   "source": [
    "simple_model.label_meanings"
   ]
  },
  {
   "cell_type": "markdown",
   "id": "151d82c3",
   "metadata": {},
   "source": [
    "## Example application"
   ]
  },
  {
   "cell_type": "markdown",
   "id": "9245644e",
   "metadata": {},
   "source": [
    "#### Create dataframe with example input (only two rows)"
   ]
  },
  {
   "cell_type": "code",
   "execution_count": 72,
   "id": "f0dad34b",
   "metadata": {},
   "outputs": [
    {
     "data": {
      "text/html": [
       "<div>\n",
       "<style scoped>\n",
       "    .dataframe tbody tr th:only-of-type {\n",
       "        vertical-align: middle;\n",
       "    }\n",
       "\n",
       "    .dataframe tbody tr th {\n",
       "        vertical-align: top;\n",
       "    }\n",
       "\n",
       "    .dataframe thead th {\n",
       "        text-align: right;\n",
       "    }\n",
       "</style>\n",
       "<table border=\"1\" class=\"dataframe\">\n",
       "  <thead>\n",
       "    <tr style=\"text-align: right;\">\n",
       "      <th></th>\n",
       "      <th>feat_distance</th>\n",
       "      <th>feat_distance_to_station_origin</th>\n",
       "      <th>feat_distance_to_station_destination</th>\n",
       "      <th>feat_origin_hour</th>\n",
       "      <th>feat_origin_day</th>\n",
       "      <th>feat_destination_hour</th>\n",
       "      <th>feat_destination_day</th>\n",
       "    </tr>\n",
       "  </thead>\n",
       "  <tbody>\n",
       "    <tr>\n",
       "      <th>sample_0</th>\n",
       "      <td>60000</td>\n",
       "      <td>300</td>\n",
       "      <td>200</td>\n",
       "      <td>8</td>\n",
       "      <td>2</td>\n",
       "      <td>12</td>\n",
       "      <td>2</td>\n",
       "    </tr>\n",
       "    <tr>\n",
       "      <th>sample1</th>\n",
       "      <td>20000</td>\n",
       "      <td>500</td>\n",
       "      <td>600</td>\n",
       "      <td>8</td>\n",
       "      <td>2</td>\n",
       "      <td>12</td>\n",
       "      <td>2</td>\n",
       "    </tr>\n",
       "  </tbody>\n",
       "</table>\n",
       "</div>"
      ],
      "text/plain": [
       "          feat_distance  feat_distance_to_station_origin  \\\n",
       "sample_0          60000                              300   \n",
       "sample1           20000                              500   \n",
       "\n",
       "          feat_distance_to_station_destination  feat_origin_hour  \\\n",
       "sample_0                                   200                 8   \n",
       "sample1                                    600                 8   \n",
       "\n",
       "          feat_origin_day  feat_destination_hour  feat_destination_day  \n",
       "sample_0                2                     12                     2  \n",
       "sample1                 2                     12                     2  "
      ]
     },
     "execution_count": 72,
     "metadata": {},
     "output_type": "execute_result"
    }
   ],
   "source": [
    "example_input = pd.DataFrame(np.array([\n",
    "# The following would be a 6km trip with start activity at 8am and end activity at 12pm on a Wednesday (2),\n",
    "    # starting 300m from a car sharing station and ending 200m away from the closest car sharing station\n",
    "    [60000, 300, 200, 8, 2, 12, 2], \n",
    "    [20000, 500, 600, 8, 2, 12, 2]\n",
    "]), columns=simple_model.feat_columns, index=[\"sample_0\", \"sample1\"])\n",
    "example_input"
   ]
  },
  {
   "cell_type": "code",
   "execution_count": 73,
   "id": "60a682a6",
   "metadata": {},
   "outputs": [
    {
     "data": {
      "text/plain": [
       "array(['Mode::Train', 'Mode::Car'], dtype=object)"
      ]
     },
     "execution_count": 73,
     "metadata": {},
     "output_type": "execute_result"
    }
   ],
   "source": [
    "predicted_mode = simple_model(example_input)\n",
    "predicted_mode"
   ]
  }
 ],
 "metadata": {
  "kernelspec": {
   "display_name": "Python 3 (ipykernel)",
   "language": "python",
   "name": "python3"
  },
  "language_info": {
   "codemirror_mode": {
    "name": "ipython",
    "version": 3
   },
   "file_extension": ".py",
   "mimetype": "text/x-python",
   "name": "python",
   "nbconvert_exporter": "python",
   "pygments_lexer": "ipython3",
   "version": "3.9.5"
  }
 },
 "nbformat": 4,
 "nbformat_minor": 5
}
